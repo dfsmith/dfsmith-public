{
 "cells": [
  {
   "cell_type": "code",
   "execution_count": 1,
   "metadata": {},
   "outputs": [
    {
     "name": "stderr",
     "output_type": "stream",
     "text": [
      "\n",
      "\n",
      "====== WebDriver manager ======\n",
      "Current firefox version is 78.15\n",
      "Get LATEST geckodriver version for 78.15 firefox\n",
      "Driver [/home/dfsmith/.wdm/drivers/geckodriver/linux64/v0.30.0/geckodriver] found in cache\n"
     ]
    }
   ],
   "source": [
    "from selenium import webdriver\n",
    "from selenium.webdriver import FirefoxOptions\n",
    "from webdriver_manager.firefox import GeckoDriverManager\n",
    "from splinter import Browser\n",
    "\n",
    "ff_options = FirefoxOptions()\n",
    "ff_options.add_argument(\"--headless\")\n",
    "browser = Browser(\n",
    "    headless=True, executable_path=GeckoDriverManager().install())\n"
   ]
  },
  {
   "cell_type": "code",
   "execution_count": 2,
   "metadata": {},
   "outputs": [
    {
     "data": {
      "text/plain": [
       "'Google'"
      ]
     },
     "execution_count": 2,
     "metadata": {},
     "output_type": "execute_result"
    }
   ],
   "source": [
    "browser.visit(\"https://www.google.com\")\n",
    "browser.title"
   ]
  },
  {
   "cell_type": "code",
   "execution_count": 3,
   "metadata": {},
   "outputs": [
    {
     "name": "stdout",
     "output_type": "stream",
     "text": [
      "0: <> <splinter.driver.webdriver.WebDriverElement object at 0x7fac1c6470f0>\n"
     ]
    }
   ],
   "source": [
    "#from IPython.core.display import display, HTML\n",
    "#display(HTML(browser.html))\n",
    "#print(f\"direct: {browser.find_by_tag('form').first.value}\")\n",
    "for i,el in enumerate(browser.find_by_name('q')):\n",
    "    print(f\"{i}: <{el.value}> {el}\")"
   ]
  },
  {
   "cell_type": "code",
   "execution_count": 4,
   "metadata": {},
   "outputs": [],
   "source": [
    "browser.fill(\"q\", \"dfsmith\")\n",
    "browser.find_by_name(\"btnK\").click()"
   ]
  },
  {
   "cell_type": "code",
   "execution_count": 5,
   "metadata": {},
   "outputs": [
    {
     "ename": "AttributeError",
     "evalue": "'WebDriverElement' object has no attribute 'keys'",
     "output_type": "error",
     "traceback": [
      "\u001b[0;31m---------------------------------------------------------------------------\u001b[0m",
      "\u001b[0;31mAttributeError\u001b[0m                            Traceback (most recent call last)",
      "\u001b[0;32m/tmp/ipykernel_20565/3742067897.py\u001b[0m in \u001b[0;36m<module>\u001b[0;34m\u001b[0m\n\u001b[1;32m      1\u001b[0m \u001b[0;32mfor\u001b[0m \u001b[0mi\u001b[0m\u001b[0;34m,\u001b[0m \u001b[0mlink\u001b[0m \u001b[0;32min\u001b[0m \u001b[0menumerate\u001b[0m\u001b[0;34m(\u001b[0m\u001b[0mbrowser\u001b[0m\u001b[0;34m.\u001b[0m\u001b[0mfind_by_tag\u001b[0m\u001b[0;34m(\u001b[0m\u001b[0;34m\"cite\"\u001b[0m\u001b[0;34m)\u001b[0m\u001b[0;34m)\u001b[0m\u001b[0;34m:\u001b[0m\u001b[0;34m\u001b[0m\u001b[0;34m\u001b[0m\u001b[0m\n\u001b[0;32m----> 2\u001b[0;31m     \u001b[0mprint\u001b[0m\u001b[0;34m(\u001b[0m\u001b[0;34mf\"{i} {link.value} {link.keys()}\"\u001b[0m\u001b[0;34m)\u001b[0m\u001b[0;34m\u001b[0m\u001b[0;34m\u001b[0m\u001b[0m\n\u001b[0m",
      "\u001b[0;31mAttributeError\u001b[0m: 'WebDriverElement' object has no attribute 'keys'"
     ]
    }
   ],
   "source": [
    "for i, link in enumerate(browser.find_by_tag(\"cite\")):\n",
    "    print(f\"{i} {link.value} {link.keys()}\")"
   ]
  },
  {
   "cell_type": "code",
   "execution_count": 14,
   "metadata": {},
   "outputs": [],
   "source": [
    "wibble=browser.find_by_tag(\"cite\")[1]"
   ]
  },
  {
   "cell_type": "code",
   "execution_count": 26,
   "metadata": {},
   "outputs": [
    {
     "name": "stdout",
     "output_type": "stream",
     "text": [
      "{\n",
      "    \"ANID\": \"AHWqTUkrIIxVgQNlaE12IelBgUArrh9bhzkfB9adUrHHZV44RA720FC2tqODm2uU\",\n",
      "    \"NID\": \"511=qV2I4PNhwUEdU0zreCJs4gd9C2eyH-mHwon2hEYNIohWhwQ6fBGtdWR-JtgMHwBzD2wshdo19Hzv-JPQcn0k2-4OeI1TGyZutA3eiUytaivAiViWh6_UqK_rjm0l3CueMOqSjyrRHDKepvtj3uMdZzadwtuTxiJ2rv8kuNRMoto\",\n",
      "    \"1P_JAR\": \"2021-12-13-02\",\n",
      "    \"DV\": \"MzfoSzxa_0kgEM4dSZxmxyy6oF8b29dhZ1ZiA7jzIwMAAAA\"\n",
      "}\n"
     ]
    }
   ],
   "source": [
    "import json\n",
    "print(json.dumps(browser.cookies.all(), indent=4))"
   ]
  },
  {
   "cell_type": "code",
   "execution_count": null,
   "metadata": {},
   "outputs": [],
   "source": []
  }
 ],
 "metadata": {
  "interpreter": {
   "hash": "31f2aee4e71d21fbe5cf8b01ff0e069b9275f58929596ceb00d14d90e3e16cd6"
  },
  "kernelspec": {
   "display_name": "Python 3.7.3 64-bit",
   "language": "python",
   "name": "python3"
  },
  "language_info": {
   "codemirror_mode": {
    "name": "ipython",
    "version": 3
   },
   "file_extension": ".py",
   "mimetype": "text/x-python",
   "name": "python",
   "nbconvert_exporter": "python",
   "pygments_lexer": "ipython3",
   "version": "3.7.3"
  },
  "orig_nbformat": 4
 },
 "nbformat": 4,
 "nbformat_minor": 2
}
