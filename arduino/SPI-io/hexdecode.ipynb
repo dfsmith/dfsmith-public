{
 "cells": [
  {
   "cell_type": "code",
   "execution_count": 1,
   "id": "e1565278",
   "metadata": {},
   "outputs": [
    {
     "name": "stdout",
     "output_type": "stream",
     "text": [
      "c:\\Users\\dfsmith\\Documents\\github\\arduino\\SPI-io\n",
      "1 WIP=0,WEL=0,BP0=0,BP1=0,S\n",
      "2 WIP=0,WEL=0,BP0=0,BP1=0,S\n",
      "3 WIP=0,WEL=0,BP0=0,BP1=0,S\n"
     ]
    }
   ],
   "source": [
    "import os\n",
    "\n",
    "print(os.getcwd())\n",
    "\n",
    "image = []\n",
    "\n",
    "with open(\"donor.hexdump\") as f:\n",
    "    for linelf in f:\n",
    "        line = linelf.rstrip()\n",
    "        # if line == \"read 4KB\"\n",
    "        #print(line)\n",
    "        if line == \"read 4KB\":\n",
    "            image.append(b\"\")\n",
    "            addr = 0\n",
    "            continue\n",
    "        if line.startswith(\"WIP\"):\n",
    "            print(f\"{len(image)} {line}\")\n",
    "            continue\n",
    "\n",
    "        addr_str, rest = line.split(\":\")\n",
    "        data_str = rest.strip().split(\" \")\n",
    "        data = [int(s, base=16) for s in data_str]\n",
    "        if int(addr_str,base=16) != addr:\n",
    "            raise RuntimeError(f\"addr mismatch {addr_str=} {addr=}\")\n",
    "        addr += len(data)\n",
    "        image[-1] += bytes(data)"
   ]
  },
  {
   "cell_type": "code",
   "execution_count": 2,
   "id": "b6498f75",
   "metadata": {},
   "outputs": [
    {
     "name": "stdout",
     "output_type": "stream",
     "text": [
      "match\n"
     ]
    }
   ],
   "source": [
    "if image[0]==image[2] and image[0]==image[1] and len(image[0])==4096:\n",
    "    print(\"match\")"
   ]
  },
  {
   "cell_type": "code",
   "execution_count": 3,
   "id": "3fbb43ac",
   "metadata": {},
   "outputs": [],
   "source": [
    "with open(\"donor.bin\",\"wb\") as f:\n",
    "     f.write(image[0])"
   ]
  },
  {
   "cell_type": "code",
   "execution_count": null,
   "id": "19791b8b",
   "metadata": {},
   "outputs": [],
   "source": []
  }
 ],
 "metadata": {
  "kernelspec": {
   "display_name": "Python 3",
   "language": "python",
   "name": "python3"
  },
  "language_info": {
   "codemirror_mode": {
    "name": "ipython",
    "version": 3
   },
   "file_extension": ".py",
   "mimetype": "text/x-python",
   "name": "python",
   "nbconvert_exporter": "python",
   "pygments_lexer": "ipython3",
   "version": "3.11.9"
  }
 },
 "nbformat": 4,
 "nbformat_minor": 5
}
