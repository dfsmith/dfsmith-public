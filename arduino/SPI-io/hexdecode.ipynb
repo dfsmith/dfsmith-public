{
 "cells": [
  {
   "cell_type": "markdown",
   "id": "e1565278",
   "metadata": {
    "slideshow": {
     "slide_type": "slide"
    }
   },
   "source": [
    "Decode hex dumps\n",
    "================\n",
    "\n",
    "This workbook manipulates the 95320 dumps collected over serial from the\n",
    "main.cpp Arduino device.\n",
    "There are expectations in the next cell for filenames and content."
   ]
  },
  {
   "cell_type": "code",
   "execution_count": null,
   "id": "4d35c3d6",
   "metadata": {},
   "outputs": [
    {
     "name": "stdout",
     "output_type": "stream",
     "text": [
      "Processing original.hexdump\n",
      "1 WIP=0,WEL=0,BP0=0,BP1=0,SRWD=0\n",
      "2 WIP=0,WEL=0,BP0=0,BP1=0,SRWD=0\n",
      "3 WIP=0,WEL=0,BP0=0,BP1=0,SRWD=0\n",
      "Processing patched.hexdump\n",
      "1 WIP=0,WEL=0,BP0=0,BP1=0,SRWD=0\n",
      "2 WIP=0,WEL=0,BP0=0,BP1=0,SRWD=0\n",
      "3 WIP=0,WEL=0,BP0=0,BP1=0,SRWD=0\n"
     ]
    }
   ],
   "source": [
    "def load_dump(name: str):\n",
    "    image = []\n",
    "    fname = f\"{name}.hexdump\"\n",
    "    print(f\"Processing {fname}\")\n",
    "    with open(fname) as f:\n",
    "        for linelf in f:\n",
    "            line = linelf.rstrip()\n",
    "            if line.startswith(\">\"):\n",
    "                continue\n",
    "            if line == \"read 4KB\":\n",
    "                image.append(b\"\")\n",
    "                addr = 0\n",
    "                continue\n",
    "            if line.startswith(\"WIP\"):\n",
    "                print(f\"{len(image)} {line}\")\n",
    "                continue\n",
    "\n",
    "            addr_str, rest = line.split(\":\")\n",
    "            data_str = rest.strip().split(\" \")\n",
    "            data = [int(s, base=16) for s in data_str]\n",
    "            if int(addr_str, base=16) != addr:\n",
    "                raise RuntimeError(f\"addr mismatch {addr_str=} {addr=}\")\n",
    "            addr += len(data)\n",
    "            image[-1] += bytes(data)\n",
    "    for i in range(1, len(image)):\n",
    "        if image[0] != image[i]:\n",
    "            a, b = image[0], image[i]\n",
    "            for j in range(min(len(a), len(b))):\n",
    "                if a[j] != b[j]:\n",
    "                    print(f\"differs at {j}: {a[j]:02x} != {b[j]:02x}\")\n",
    "            raise RuntimeError(\n",
    "                f\"not matching: 0 != {i} : len {len(image[0])} {len(image[i])}\"\n",
    "            )\n",
    "    with open(f\"{name}.bin\", \"wb\") as f:\n",
    "        f.write(image[0])\n",
    "    return image[0]\n",
    "\n",
    "\n",
    "original = load_dump(\"original\")\n",
    "donor = load_dump(\"donor\")\n",
    "patched = load_dump(\"patched\")"
   ]
  },
  {
   "cell_type": "code",
   "execution_count": null,
   "id": "f3b67d9e",
   "metadata": {},
   "outputs": [
    {
     "data": {
      "text/plain": [
       "3"
      ]
     },
     "execution_count": 24,
     "metadata": {},
     "output_type": "execute_result"
    }
   ],
   "source": [
    "diff = bytes([o ^ d for o, d in zip(original, patched)])\n",
    "with open(\"diff.bin\", \"wb\") as f:\n",
    "    f.write(diff)\n",
    "sum(1 for d in diff if d != 0)"
   ]
  },
  {
   "cell_type": "code",
   "execution_count": null,
   "id": "6a388293",
   "metadata": {},
   "outputs": [],
   "source": [
    "def to_header(name: str, data: bytes):\n",
    "    with open(name, \"w\") as f:\n",
    "\n",
    "        def out(s: str):\n",
    "            print(s, file=f, end=\"\")\n",
    "\n",
    "        out(f\"unsigned char const {name.replace('.', '_')}[] = {{\")\n",
    "        col = 0\n",
    "        for d in data:\n",
    "            if col % 16 == 0:\n",
    "                out(\"\\n\\t\")\n",
    "            out(f\"0x{d:02x}, \")\n",
    "            col += 1\n",
    "        out(f\"\\n}};\")"
   ]
  },
  {
   "cell_type": "code",
   "execution_count": null,
   "id": "dbfdd7e4",
   "metadata": {},
   "outputs": [],
   "source": [
    "to_header(\"original.hpp\", original)\n",
    "to_header(\"patched.hpp\", bytes([0, 0, 0]) + original[3:])"
   ]
  },
  {
   "cell_type": "code",
   "execution_count": null,
   "id": "7ff94565",
   "metadata": {},
   "outputs": [],
   "source": []
  }
 ],
 "metadata": {
  "kernelspec": {
   "display_name": "Python 3",
   "language": "python",
   "name": "python3"
  },
  "language_info": {
   "codemirror_mode": {
    "name": "ipython",
    "version": 3
   },
   "file_extension": ".py",
   "mimetype": "text/x-python",
   "name": "python",
   "nbconvert_exporter": "python",
   "pygments_lexer": "ipython3",
   "version": "3.11.9"
  }
 },
 "nbformat": 4,
 "nbformat_minor": 5
}
